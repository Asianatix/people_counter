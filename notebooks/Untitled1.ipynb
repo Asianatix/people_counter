{
 "cells": [
  {
   "cell_type": "code",
   "execution_count": 1,
   "metadata": {},
   "outputs": [],
   "source": [
    "from detectron2.engine import DefaultPredictor\n",
    "from detectron2.config import get_cfg"
   ]
  },
  {
   "cell_type": "code",
   "execution_count": 2,
   "metadata": {},
   "outputs": [],
   "source": [
    "from detectron2.utils.logger import setup_logger\n",
    "setup_logger()\n",
    "import numpy as np"
   ]
  },
  {
   "cell_type": "code",
   "execution_count": 13,
   "metadata": {},
   "outputs": [],
   "source": [
    "class Detectron2:\n",
    "    def __init__(self, cfg_path, weights_path ):\n",
    "        self.cfg = get_cfg()\n",
    "        self.cfg.merge_from_file(cfg_path)\n",
    "        self.cfg.MODEL.ROI_HEADS.SCORE_THRESH_TEST = 0.5  # set threshold for this model\n",
    "        self.cfg.MODEL.WEIGHTS = weights_path\n",
    "        self.cfg.MODEL.DEVICE = \"cuda\"\n",
    "        self.predictor = DefaultPredictor(self.cfg)\n",
    "\n",
    "    def bbox(self, img):\n",
    "        rows = np.any(img, axis=1)\n",
    "        cols = np.any(img, axis=0)\n",
    "        rmin, rmax = np.where(rows)[0][[0, -1]]\n",
    "        cmin, cmax = np.where(cols)[0][[0, -1]]\n",
    "        return cmin, rmin, cmax, rmax\n",
    "\n",
    "    def detect(self, im):\n",
    "        outputs = self.predictor(im)\n",
    "        boxes = outputs[\"instances\"].pred_boxes.tensor.cpu().numpy()\n",
    "        classes = outputs[\"instances\"].pred_classes.cpu().numpy()\n",
    "        scores = outputs[\"instances\"].scores.cpu().numpy()\n",
    "\n",
    "        bbox_xyxy, cls_conf, cls_ids = [], [], []\n",
    "\n",
    "        for (box, _class, score) in zip(boxes, classes, scores):\n",
    "\n",
    "            if _class >= 0:\n",
    "                x0, y0, x1, y1 = box\n",
    "                bbox_xyxy.append(box)\n",
    "                cls_conf.append(score)\n",
    "                cls_ids.append(_class)\n",
    "\n",
    "        return np.array(bbox_xyxy, dtype=np.float64), np.array(cls_conf), np.array(cls_ids)"
   ]
  },
  {
   "cell_type": "code",
   "execution_count": 4,
   "metadata": {},
   "outputs": [],
   "source": [
    "import sys"
   ]
  },
  {
   "cell_type": "code",
   "execution_count": 5,
   "metadata": {},
   "outputs": [],
   "source": [
    "sys.path.insert(0, \"..\")"
   ]
  },
  {
   "cell_type": "code",
   "execution_count": 6,
   "metadata": {},
   "outputs": [],
   "source": [
    "from util import draw_bboxes"
   ]
  },
  {
   "cell_type": "code",
   "execution_count": 14,
   "metadata": {},
   "outputs": [],
   "source": [
    "cf_p = \"/data/drone_experiments/exp1/weights/config.yaml\"\n",
    "w_p = \"/data/drone_experiments/exp1/weights/model_0111599.pth\"\n",
    "det = Detectron2(cf_p, w_p)"
   ]
  },
  {
   "cell_type": "code",
   "execution_count": 15,
   "metadata": {},
   "outputs": [],
   "source": [
    "import cv2"
   ]
  },
  {
   "cell_type": "code",
   "execution_count": 16,
   "metadata": {},
   "outputs": [],
   "source": [
    "im = cv2.imread(\"/nfs/gpu14_datasets/drone_datasets/visdrone/Task-1/VisDrone2019-DET-train/images/0000002_00005_d_0000014.jpg\")\n",
    "bbox, cls_conf, cls_id = det.detect(im)"
   ]
  },
  {
   "cell_type": "code",
   "execution_count": 17,
   "metadata": {},
   "outputs": [
    {
     "data": {
      "text/plain": [
       "array([[ 55.42174149, 338.27487183,  66.65877533, 357.55639648],\n",
       "       [ 46.96202087, 389.12811279,  58.28924179, 409.92724609],\n",
       "       [898.3336792 , 223.84062195, 906.63964844, 240.69818115],\n",
       "       [193.8644104 , 233.23147583, 201.37887573, 246.21234131],\n",
       "       [ 53.53175735, 311.24551392,  63.49562836, 329.12167358],\n",
       "       [221.47994995, 344.52731323, 232.79364014, 360.77288818],\n",
       "       [881.04504395, 255.82118225, 891.04034424, 272.59277344],\n",
       "       [117.27410126, 199.95082092, 125.26366425, 213.59176636],\n",
       "       [111.02787018,  98.33027649, 116.03022766, 108.52578735],\n",
       "       [137.26908875, 113.86061859, 141.86730957, 121.92194366],\n",
       "       [177.96107483, 232.46159363, 185.67141724, 244.75863647],\n",
       "       [220.83100891, 116.60059357, 225.6178894 , 126.64091492],\n",
       "       [ 85.69707489, 192.99736023,  94.08559418, 210.08642578],\n",
       "       [158.18556213,  59.32807541, 162.15684509,  66.1604538 ],\n",
       "       [110.20477295,  96.55470276, 115.3157959 , 104.83091736],\n",
       "       [233.103302  , 230.91654968, 240.76997375, 245.40983582],\n",
       "       [131.64100647,  63.48720932, 135.9400177 ,  72.45219421],\n",
       "       [ 61.50185013, 208.81013489,  69.89811707, 224.62680054],\n",
       "       [176.09416199, 227.78347778, 184.47705078, 241.8374176 ],\n",
       "       [136.13734436, 112.14165497, 141.00415039, 119.61624146],\n",
       "       [130.72840881,  65.93349457, 134.74024963,  74.40574646]])"
      ]
     },
     "execution_count": 17,
     "metadata": {},
     "output_type": "execute_result"
    }
   ],
   "source": [
    "bbox"
   ]
  },
  {
   "cell_type": "code",
   "execution_count": 18,
   "metadata": {},
   "outputs": [
    {
     "data": {
      "text/plain": [
       "array([0, 0, 0, 0, 0, 0, 0, 0, 0, 0, 0, 0, 0, 0, 0, 0, 0, 0, 0, 0, 0])"
      ]
     },
     "execution_count": 18,
     "metadata": {},
     "output_type": "execute_result"
    }
   ],
   "source": [
    "cls_id"
   ]
  },
  {
   "cell_type": "code",
   "execution_count": 19,
   "metadata": {},
   "outputs": [],
   "source": [
    "im = draw_bboxes(im, bbox)"
   ]
  },
  {
   "cell_type": "code",
   "execution_count": 21,
   "metadata": {},
   "outputs": [],
   "source": [
    "from matplotlib import pyplot as plt"
   ]
  },
  {
   "cell_type": "code",
   "execution_count": 24,
   "metadata": {},
   "outputs": [],
   "source": [
    "from IPython.display import Video"
   ]
  },
  {
   "cell_type": "code",
   "execution_count": null,
   "metadata": {},
   "outputs": [],
   "source": []
  }
 ],
 "metadata": {
  "kernelspec": {
   "display_name": "Python detectron",
   "language": "python",
   "name": "myenv"
  },
  "language_info": {
   "codemirror_mode": {
    "name": "ipython",
    "version": 3
   },
   "file_extension": ".py",
   "mimetype": "text/x-python",
   "name": "python",
   "nbconvert_exporter": "python",
   "pygments_lexer": "ipython3",
   "version": "3.6.10"
  }
 },
 "nbformat": 4,
 "nbformat_minor": 4
}
